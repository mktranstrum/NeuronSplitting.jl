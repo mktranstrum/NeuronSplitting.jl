{
 "cells": [
  {
   "cell_type": "code",
   "execution_count": null,
   "id": "386815cf-6556-49a1-b6cd-e1fe9a6ed3aa",
   "metadata": {},
   "outputs": [],
   "source": [
    "include(\"Data.jl\")\n",
    "include(\"Model.jl\")\n",
    "\n",
    "using PyPlot, LinearAlgebra\n",
    "import Random: seed!\n",
    "using Main.Data\n",
    "using Main.Model"
   ]
  },
  {
   "cell_type": "markdown",
   "id": "a6773734-cb5e-440a-9806-d99f49a490dc",
   "metadata": {},
   "source": [
    "# Initial Network: 1 Neuron"
   ]
  },
  {
   "cell_type": "code",
   "execution_count": null,
   "id": "d4433fe0-fe6c-4005-9591-f6e696ec20ba",
   "metadata": {},
   "outputs": [],
   "source": [
    "figure()\n",
    "plot_data()\n",
    "seed!(1985)\n",
    "# Start with a single neuron\n",
    "θ0 = randn(3*1 + 1)* 1e0\n",
    "plot(xfine, fhat(xfine, θ0), \"b-\", label = \"initial\", linewidth = 3)\n",
    "@show loss(θ0, λ)\n",
    "θf = train(θ0)\n",
    "plot(xfine, fhat(xfine, θf), \"r-\", label = \"Nh = $(Nh(θf))\", linewidth = 1)\n",
    "legend()"
   ]
  },
  {
   "cell_type": "markdown",
   "id": "23949488-3e5e-4cc9-b761-11a0f366ca8e",
   "metadata": {},
   "source": [
    "# Iteration 1: 1 -> 2 Neurons"
   ]
  },
  {
   "cell_type": "code",
   "execution_count": null,
   "id": "e2eb013a-16d9-47c2-8229-4ad6953ea757",
   "metadata": {},
   "outputs": [],
   "source": [
    "score, θ0, dθ = target_split(θf,1)\n",
    "@show Nh(θ0), score\n",
    "τ = line_search(θ0, dθ)\n",
    "@show τ\n",
    "figure()\n",
    "plot_data()\n",
    "plot(xfine, fhat(xfine, θ0), \"b-\", label = \"Initial\", linewidth = 3)\n",
    "plot(xfine, fhat(xfine, θ0 + dθ*τ), \"-\", color=\"orange\", label = \"Perturbed\", linewidth = 2)\n",
    "θf = train(θ0 + dθ*τ)\n",
    "plot(xfine, fhat(xfine, θf), \"r-\", label = \"Nh = $(Nh(θf))\", linewidth = 1)\n",
    "legend()"
   ]
  },
  {
   "cell_type": "markdown",
   "id": "62f44ac8-1e7f-45f4-8148-26ce84b2e388",
   "metadata": {},
   "source": [
    "# Iteration 3: 2 -> 3 Neurons"
   ]
  },
  {
   "cell_type": "code",
   "execution_count": null,
   "id": "ab96f748-700b-47cf-929f-20b7785c3b29",
   "metadata": {},
   "outputs": [],
   "source": [
    "score, θ0, dθ = target_split(θf, 1)\n",
    "@show Nh(θ0), score\n",
    "τ = line_search(θ0, dθ)\n",
    "@show τ\n",
    "figure()\n",
    "plot_data()\n",
    "plot(xfine, fhat(xfine, θ0), \"b-\", label = \"Initial\", linewidth = 3)\n",
    "plot(xfine, fhat(xfine, θ0 + dθ*τ), \"-\", color=\"orange\", label = \"Perturbed\", linewidth = 2)\n",
    "θf = train(θ0 + dθ*τ)\n",
    "plot(xfine, fhat(xfine, θf), \"r-\", label = \"Nh = $(Nh(θf))\", linewidth = 1)\n",
    "legend()"
   ]
  },
  {
   "cell_type": "markdown",
   "id": "44104276-e8b4-4d00-b45a-bb3e00d788c5",
   "metadata": {},
   "source": [
    "# Iteration 3: 3 -> 4 Neurons"
   ]
  },
  {
   "cell_type": "code",
   "execution_count": null,
   "id": "0da49704-1bfe-459d-956f-6561ef6aed0c",
   "metadata": {},
   "outputs": [],
   "source": [
    "score, θ0, dθ = target_split(θf,1)\n",
    "@show Nh(θ0), score\n",
    "τ = line_search(θ0, dθ)\n",
    "@show τ\n",
    "figure()\n",
    "plot_data()\n",
    "plot(xfine, fhat(xfine, θ0), \"b-\", label = \"Initial\", linewidth = 3)\n",
    "plot(xfine, fhat(xfine, θ0 + dθ*τ), \"-\", color=\"orange\", label = \"Perturbed\", linewidth = 2)\n",
    "θf = train(θ0 + dθ*τ)\n",
    "plot(xfine, fhat(xfine, θf), \"r-\", label = \"Nh = $(Nh(θf))\", linewidth = 1)\n",
    "legend()"
   ]
  },
  {
   "cell_type": "code",
   "execution_count": null,
   "id": "f45bfdff-ed2d-4809-bf5c-e7cef93534a3",
   "metadata": {},
   "outputs": [],
   "source": [
    "score, θ0, dθ = target_split(θf,1)\n",
    "@show Nh(θ0), score\n",
    "τ = line_search(θ0, dθ)\n",
    "@show τ\n",
    "figure()\n",
    "plot_data()\n",
    "plot(xfine, fhat(xfine, θ0), \"b-\", label = \"Initial\", linewidth = 3)\n",
    "plot(xfine, fhat(xfine, θ0 + dθ*τ), \"-\", color=\"orange\", label = \"Perturbed\", linewidth = 2)\n",
    "θf = train(θ0 + dθ*τ)\n",
    "plot(xfine, fhat(xfine, θf), \"r-\", label = \"Nh = $(Nh(θf))\", linewidth = 1)\n",
    "legend()"
   ]
  },
  {
   "cell_type": "code",
   "execution_count": null,
   "id": "5e51b26a-ce12-4123-90a8-3868330fa5e2",
   "metadata": {},
   "outputs": [],
   "source": [
    "score, θ0, dθ = target_split(θf,1)\n",
    "@show Nh(θ0), score\n",
    "τ = line_search(θ0, dθ)\n",
    "@show τ\n",
    "figure()\n",
    "plot_data()\n",
    "plot(xfine, fhat(xfine, θ0), \"b-\", label = \"Initial\", linewidth = 3)\n",
    "plot(xfine, fhat(xfine, θ0 + dθ*τ), \"-\", color=\"orange\", label = \"Perturbed\", linewidth = 2)\n",
    "θf = train(θ0 + dθ*τ)\n",
    "plot(xfine, fhat(xfine, θf), \"r-\", label = \"Nh = $(Nh(θf))\", linewidth = 1)\n",
    "legend()"
   ]
  },
  {
   "cell_type": "code",
   "execution_count": null,
   "id": "610862e1-7e99-414a-9e87-53904cf3eff8",
   "metadata": {},
   "outputs": [],
   "source": [
    "score, θ0, dθ = target_split(θf,1)\n",
    "@show Nh(θ0), score\n",
    "τ = line_search(θ0, dθ)\n",
    "@show τ\n",
    "figure()\n",
    "plot_data()\n",
    "plot(xfine, fhat(xfine, θ0), \"b-\", label = \"Initial\", linewidth = 3)\n",
    "plot(xfine, fhat(xfine, θ0 + dθ*τ), \"-\", color=\"orange\", label = \"Perturbed\", linewidth = 2)\n",
    "θf = train(θ0 + dθ*τ)\n",
    "plot(xfine, fhat(xfine, θf), \"r-\", label = \"Nh = $(Nh(θf))\", linewidth = 1)\n",
    "legend()"
   ]
  },
  {
   "cell_type": "code",
   "execution_count": null,
   "id": "46b2fc81-867d-4615-83e7-b32ad940de65",
   "metadata": {},
   "outputs": [],
   "source": []
  }
 ],
 "metadata": {
  "kernelspec": {
   "display_name": "Julia 1.7.3",
   "language": "julia",
   "name": "julia-1.7"
  },
  "language_info": {
   "file_extension": ".jl",
   "mimetype": "application/julia",
   "name": "julia",
   "version": "1.7.3"
  }
 },
 "nbformat": 4,
 "nbformat_minor": 5
}
